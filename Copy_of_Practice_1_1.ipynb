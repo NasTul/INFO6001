{
  "nbformat": 4,
  "nbformat_minor": 0,
  "metadata": {
    "colab": {
      "provenance": [],
      "authorship_tag": "ABX9TyOtBs8R/gyCAGfOR5Yuuhui",
      "include_colab_link": true
    },
    "kernelspec": {
      "name": "python3",
      "display_name": "Python 3"
    },
    "language_info": {
      "name": "python"
    }
  },
  "cells": [
    {
      "cell_type": "markdown",
      "metadata": {
        "id": "view-in-github",
        "colab_type": "text"
      },
      "source": [
        "<a href=\"https://colab.research.google.com/github/NasTul/INFO6001/blob/main/Copy_of_Practice_1_1.ipynb\" target=\"_parent\"><img src=\"https://colab.research.google.com/assets/colab-badge.svg\" alt=\"Open In Colab\"/></a>"
      ]
    },
    {
      "cell_type": "markdown",
      "source": [
        "## Basic"
      ],
      "metadata": {
        "id": "N6Hg7n_ie7xH"
      }
    },
    {
      "cell_type": "markdown",
      "source": [
        "1. `calculate_hash()`  \n",
        "\n",
        "    Task: Implement a function that calculates the hash of a block using SHA-256.\n",
        "\n",
        "  Guidance:\n",
        "\n",
        "    * Use the `hashlib` to compute the hash.\n",
        "    * Convert the input string to bytes before hashing.\n",
        "    * Ensure the hash is returned as a hexadecimal string.\n",
        "\n",
        "\n"
      ],
      "metadata": {
        "id": "yaGFrfSh1o_L"
      }
    },
    {
      "cell_type": "code",
      "source": [
        "import hashlib\n",
        "\n",
        "def calculate_hash(data):\n",
        "    # TODO: Implement hash calculation using SHA-256\n",
        "    pass\n",
        "\n",
        "# Example usage:\n",
        "print(calculate_hash(\"Blockchain\"))  # Expected output: A valid SHA-256 hash"
      ],
      "metadata": {
        "id": "EpNNITIR2M7A"
      },
      "execution_count": null,
      "outputs": []
    },
    {
      "cell_type": "markdown",
      "source": [
        "2. `create_genesis_block()`  \n",
        "    Task: Create the first block in the blockchain, known as the genesis block.\n",
        "\n",
        "  Guidance:\n",
        "\n",
        "    The genesis block is the first block in the chain.\n",
        "    It has:\n",
        "    * A fixed index 0\n",
        "    * A previous_hash of \"0\"\n",
        "    * A timestamp set to the current time.\n",
        "    * A data message such as \"Genesis Block\"\n",
        "    * A proof value that can be an arbitrary number, e.g., 0."
      ],
      "metadata": {
        "id": "eSxnrKTN2NG4"
      }
    },
    {
      "cell_type": "code",
      "source": [
        "import time\n",
        "\n",
        "def create_genesis_block():\n",
        "    # TODO: Create and return a dictionary representing the genesis block\n",
        "    pass\n",
        "\n",
        "# Example usage:\n",
        "print(create_genesis_block())  # Expected output: A dictionary with block details"
      ],
      "metadata": {
        "id": "bcwL-uAg2vfa",
        "colab": {
          "base_uri": "https://localhost:8080/"
        },
        "outputId": "cc2d0be0-112a-4f6b-bcc0-3d4c43ade011"
      },
      "execution_count": null,
      "outputs": [
        {
          "output_type": "stream",
          "name": "stdout",
          "text": [
            "None\n"
          ]
        }
      ]
    },
    {
      "cell_type": "markdown",
      "source": [
        "3. `get_latest_item()`  \n",
        "    Task: Write a function that returns the last element from a list.\n",
        "\n",
        "  Guidance:\n",
        "\n",
        "    Create a function `get_latest_item(items)` that：\n",
        "    * Takes a list as input.\n",
        "    * Returns the last element of the list.\n"
      ],
      "metadata": {
        "id": "VEj_HcEO20_b"
      }
    },
    {
      "cell_type": "code",
      "source": [
        "def get_latest_item(items):\n",
        "    # TODO: Return the last item in the list or \"List is empty\" if the list is empty\n",
        "    pass\n",
        "\n",
        "# Example usage:\n",
        "print(get_latest_item([1, 2, 3, 4]))  # Expected output: 4\n",
        "print(get_latest_item([]))            # Expected output: \"List is empty\""
      ],
      "metadata": {
        "id": "u-CqaeMU21GI"
      },
      "execution_count": null,
      "outputs": []
    },
    {
      "cell_type": "markdown",
      "source": [
        "4. `add_data()`  \n",
        "    Task: Write a function that adds a dictionary (representing a new block) to a list.\n",
        "\n",
        "  Guidance:\n",
        "\n",
        "    The function should:\n",
        "    * Accept a list (chain) and a dictionary (new_entry).\n",
        "    * Append new_entry to chain.\n",
        "    * Return the updated list.\n"
      ],
      "metadata": {
        "id": "NEBuNibRePwL"
      }
    },
    {
      "cell_type": "code",
      "source": [
        "def add_entry(chain, new_entry):\n",
        "    # TODO: Append the new entry (dictionary) to the list\n",
        "    pass\n",
        "\n",
        "# Example usage:\n",
        "blockchain = [{\"index\": 0, \"data\": \"Genesis Block\"}]\n",
        "new_block = {\"index\": 1, \"data\": \"New Block\"}\n",
        "print(add_entry(blockchain, new_block))  # Expected output: List with two dictionary entries\n"
      ],
      "metadata": {
        "id": "IdY3dD47eP35"
      },
      "execution_count": null,
      "outputs": []
    },
    {
      "cell_type": "markdown",
      "source": [
        "5. `is_valid_proof(data, proof)`  \n",
        "    Task: Check if the proof is valid (i.e., hash of data + proof starts with \"0000\").\n"
      ],
      "metadata": {
        "id": "I4JnXFs2aYxX"
      }
    },
    {
      "cell_type": "code",
      "source": [
        "def is_valid_proof(data, proof):\n",
        "    # TODO: Check if the hash of data + proof starts with \"0000\"\n",
        "    pass\n",
        "\n",
        "# Example usage:\n",
        "print(is_valid_proof(\"test\", 1234))  # Expected output: True or False"
      ],
      "metadata": {
        "id": "38eIyzN3aZFD"
      },
      "execution_count": null,
      "outputs": []
    },
    {
      "cell_type": "markdown",
      "source": [
        "6. `proof_of_work()`  \n",
        "    Task: Find a proof value such that when concatenated with a string and hashed, the hash starts with \"0000\".\n",
        "\n",
        "  Guidance:\n",
        "\n",
        "    * Start with proof = 0.\n",
        "    * Increment proof until the SHA-256 hash of \"test\" + str(proof) starts with \"0000\".\n",
        "    * Return the valid proof.\n"
      ],
      "metadata": {
        "id": "bUGkvYuS24Tb"
      }
    },
    {
      "cell_type": "code",
      "source": [
        "import hashlib\n",
        "\n",
        "def proof_of_work():\n",
        "    # TODO: Find a proof value such that the hash starts with \"0000\"\n",
        "    pass\n",
        "\n",
        "# Example usage:\n",
        "print(proof_of_work())  # Expected output: A valid proof number"
      ],
      "metadata": {
        "id": "DtqUB8843RCn"
      },
      "execution_count": null,
      "outputs": []
    },
    {
      "cell_type": "markdown",
      "source": [
        "7. `validate_blocks()`  \n",
        "    Task: Check whether each dictionary in a list correctly references the previous one.\n",
        "\n",
        "  Guidance:\n",
        "\n",
        "    * Each block should have a previous_hash key.\n",
        "    * Ensure that for each block, the previous_hash matches the hash of the previous block.\n",
        "    * Return True if valid, otherwise False.\n"
      ],
      "metadata": {
        "id": "EEMFQoIy32hs"
      }
    },
    {
      "cell_type": "code",
      "source": [
        "def validate_blocks(blocks):\n",
        "    # TODO: Implement blockchain validation logic\n",
        "    pass\n",
        "\n",
        "# Example usage:\n",
        "blockchain = [\n",
        "    {\"index\": 0, \"hash\": \"abcd\"},\n",
        "    {\"index\": 1, \"previous_hash\": \"abcd\", \"hash\": \"efgh\"},\n",
        "    {\"index\": 2, \"previous_hash\": \"efgh\", \"hash\": \"ijkl\"}\n",
        "]\n",
        "print(validate_blocks(blockchain))  # Expected output: True or False"
      ],
      "metadata": {
        "id": "OCI-FHdV32TT"
      },
      "execution_count": null,
      "outputs": []
    },
    {
      "cell_type": "markdown",
      "source": [
        "8. Save and Load Blockchain Data to JSON `save_blockchain(blockchain, filename)` and  `load_blockchain(filename)`\n",
        "\n",
        "    Task: Implement functions to save and load blockchain data using JSON..\n",
        "\n",
        "  Guidance:\n",
        "\n",
        "    * Saves the blockchain list to a JSON file.\n",
        "    * Reads the JSON file and loads the blockchain back into a list.\n"
      ],
      "metadata": {
        "id": "KoBKZUxc497s"
      }
    },
    {
      "cell_type": "code",
      "source": [
        "import json\n",
        "\n",
        "def save_blockchain(blockchain, filename):\n",
        "    # TODO: Save blockchain data to a JSON file\n",
        "    pass\n",
        "\n",
        "def load_blockchain(filename):\n",
        "    # TODO: Load blockchain data from a JSON file\n",
        "    pass\n",
        "\n",
        "# Example usage:\n",
        "blockchain = [{\"index\": 0, \"data\": \"Genesis Block\"}]\n",
        "save_blockchain(blockchain, \"blockchain.json\")\n",
        "print(load_blockchain(\"blockchain.json\"))  # Expected output: Loaded blockchain data"
      ],
      "metadata": {
        "id": "toHbgIlX4-CY"
      },
      "execution_count": null,
      "outputs": []
    },
    {
      "cell_type": "markdown",
      "source": [
        "9. Build a Simple Command-Line Interface (CLI)\n",
        "\n",
        "    Task: Design a basic user interface in Python that lets users interact with your system via terminal input.\n",
        "\n",
        "  Guidance:\n",
        "\n",
        "    * function `input()` is perfect for collecting user input in a simple command-line interface\n"
      ],
      "metadata": {
        "id": "1nowG4je1iRt"
      }
    },
    {
      "cell_type": "code",
      "source": [
        "# Blockchain Menu Example\n",
        "print(\"\\n=== Blockchain Menu ===\")\n",
        "print(\"1. Add a new block\")\n",
        "print(\"2. Display the blockchain\")\n",
        "print(\"3. Validate the blockchain\")\n",
        "print(\"4. Exit\")"
      ],
      "metadata": {
        "colab": {
          "base_uri": "https://localhost:8080/"
        },
        "id": "8kOc5UJD1u7m",
        "outputId": "5057c709-6794-463e-b3f0-480793e537e3"
      },
      "execution_count": null,
      "outputs": [
        {
          "output_type": "stream",
          "name": "stdout",
          "text": [
            "\n",
            "=== Blockchain Menu ===\n",
            "1. Add a new block\n",
            "2. Display the blockchain\n",
            "3. Validate the blockchain\n",
            "4. Exit\n"
          ]
        }
      ]
    },
    {
      "cell_type": "markdown",
      "source": [
        "## More"
      ],
      "metadata": {
        "id": "3-_xOFdxe_Ra"
      }
    },
    {
      "cell_type": "markdown",
      "source": [
        "1. `calculate_chain_difficulty(chain)`  \n",
        "\n",
        "    Task: Calculate the difficulty of the blockchain based on how many leading zeroes are in the hash of each block.\n",
        "\n",
        "  Guidance:\n",
        "\n",
        "    * For each block, count the number of leading \"0\" characters in the hash.\n",
        "    * Return the average or list of difficulties.\n",
        "\n"
      ],
      "metadata": {
        "id": "0ZKVdU1ffQpa"
      }
    },
    {
      "cell_type": "code",
      "source": [
        "def calculate_chain_difficulty(chain):\n",
        "    # Code here\n",
        "    pass\n",
        "\n",
        "# Example usage:\n",
        "print(calculate_chain_difficulty([\n",
        "    {\"hash\": \"0000abc\"},\n",
        "    {\"hash\": \"00def\"},\n",
        "    {\"hash\": \"000000xyz\"},\n",
        "]))"
      ],
      "metadata": {
        "id": "oqgB26QffASn"
      },
      "execution_count": null,
      "outputs": []
    },
    {
      "cell_type": "markdown",
      "source": [
        "2. `is_chain_sorted_by_timestamp(chain)`  \n",
        "\n",
        "    Task: Check if the blockchain is in chronological order based on timestamps.\n"
      ],
      "metadata": {
        "id": "lzZaUKDAfkzK"
      }
    },
    {
      "cell_type": "code",
      "source": [
        "def is_chain_sorted_by_timestamp(chain):\n",
        "    # Code here\n",
        "    pass\n",
        "\n",
        "# Example usage:\n",
        "print(is_chain_sorted_by_timestamp([\n",
        "    {\"timestamp\": 10},\n",
        "    {\"timestamp\": 20},\n",
        "    {\"timestamp\": 30},\n",
        "]))  # True"
      ],
      "metadata": {
        "id": "l6Wgkdiffk81"
      },
      "execution_count": null,
      "outputs": []
    },
    {
      "cell_type": "code",
      "source": [
        "some changes here"
      ],
      "metadata": {
        "id": "p2aI-wER_8zA"
      },
      "execution_count": null,
      "outputs": []
    }
  ]
}